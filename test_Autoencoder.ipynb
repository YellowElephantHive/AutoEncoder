{
    "cells": [
        {
            "cell_type": "code",
            "execution_count": 9,
            "source": [
                "import os\n",
                "import sys\n",
                "from model.autoencoder import AutoEncoder\n",
                "from utils.config import cm"
            ],
            "outputs": [],
            "metadata": {}
        },
        {
            "cell_type": "code",
            "execution_count": 11,
            "source": [
                "cm.load('/Users/laiyuchun/Desktop/Autoencoder/setting.cfg')\n",
                "cm['ROOT']['DATASET']\n",
                "dataset_root = os.path.join(os.getcwd, cm['ROOT']['DATASET'])\n"
            ],
            "outputs": [
                {
                    "output_type": "execute_result",
                    "data": {
                        "text/plain": [
                            "'/Users/laiyuchun/Desktop/Autoencoder'"
                        ]
                    },
                    "metadata": {},
                    "execution_count": 11
                }
            ],
            "metadata": {}
        },
        {
            "cell_type": "code",
            "execution_count": null,
            "source": [
                "model = AutoEncoder"
            ],
            "outputs": [],
            "metadata": {}
        }
    ],
    "metadata": {
        "orig_nbformat": 4,
        "language_info": {
            "name": "python",
            "version": "3.8.5",
            "mimetype": "text/x-python",
            "codemirror_mode": {
                "name": "ipython",
                "version": 3
            },
            "pygments_lexer": "ipython3",
            "nbconvert_exporter": "python",
            "file_extension": ".py"
        },
        "kernelspec": {
            "name": "python3",
            "display_name": "Python 3.8.5 64-bit ('TensorFlow': conda)"
        },
        "interpreter": {
            "hash": "e60a17d048fde2b3038d3be4d254ddb0397375ab18d2d3750e317b2cfc1901aa"
        }
    },
    "nbformat": 4,
    "nbformat_minor": 2
}